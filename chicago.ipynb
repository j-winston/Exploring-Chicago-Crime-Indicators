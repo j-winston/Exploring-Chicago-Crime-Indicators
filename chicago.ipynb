{
 "cells": [
  {
   "cell_type": "markdown",
   "id": "d4da62d0-d9b3-46be-bd6a-aae77d6e2b37",
   "metadata": {},
   "source": [
    "# Exploring Violent Crime Indicators in the Windy City"
   ]
  },
  {
   "cell_type": "markdown",
   "id": "607c3c09-4a61-407b-8601-6e2336d9a553",
   "metadata": {},
   "source": [
    "While comparing its level of violent crime to that in Iraq might be far-fetched, one thing that is for certain: the city of Chicago is plagued with deadly violence on a scale rarely seen in other cites across the US. \n",
    "\n",
    "The aim of this project is to answer the following questions: \n",
    "\n",
    "- Does temperature affect the rate of violent crime? (battery, criminal sexual assault, robbery, assualt, homicide)\n",
    "- Which month of the year generally has the highest number of murders?\n",
    "- What percentage of murders lead to an arrest? How often do criminals get away with murder?\n",
    "- Where do violent crimes most frequently take place?\n",
    "- Which districts have the highest and lowest arrest rates?\n",
    "\n",
    "Understanding the answer to these questions can help police direct resources to where and when they are most likely to be needed, and can help citizens understand some of the patterns that may be occuring in their area. "
   ]
  },
  {
   "cell_type": "markdown",
   "id": "3a6e9e3b-9553-4dc8-aed5-03ec07189c6b",
   "metadata": {},
   "source": [
    "To answer our questions, we will be using data extracted from Chicago PD's CLEAR(Citizen Law Enforcement Analysis and Reporting) system. \n",
    "Our dataset reflects reported crimes from 2001-2017 and **contains 7,941,282 entries**. \n",
    "\n",
    "A few notes on potential issues with this data:\n",
    "\n",
    "- Crime classifications could have been changed at a later date\n",
    "- The data includes unverified reports that were given to Chicago PD\n",
    "- The Chicago Police department doesn't guarantee the accuracy or completeness of the data"
   ]
  },
  {
   "cell_type": "markdown",
   "id": "d180d5f3-dde6-4e00-a895-e97fe1f2b6c8",
   "metadata": {},
   "source": [
    "### Data Necessary for our Analysis\n",
    "\n",
    "For our analysis we will simplfying our dataset and using only the following columns: \n",
    "\n",
    "- **`Case Number`**: Unique identifier for the record.\n",
    "- **`Arrest`**: Indicates whether an arrest was made.\n",
    "- **`Date`**: Date when the incident occured, or best estimate.\n",
    "- **`Block`**: Partially redacted address where the incident occurred.\n",
    "- **`Primary Type`**: The primary description of the IUCR code. For our purposes, the crime reported.\n",
    "- **`Description`**: The secondary description-a subcategory of the primary type\n",
    "- **`Location Description`**: A description of where the incident occurred, ie `STREET` or `RESIDENCE`.\n",
    "- **`District`**: Indicates the [police district](https://data.cityofchicago.org/d/fthy-xz3r) where the incident occurred.\n",
    "- **`Location`**: The location where the incident occurred in longitude and latitude, shifted for partial redaction, but falls on the same block.\n",
    "\n"
   ]
  },
  {
   "cell_type": "markdown",
   "id": "19a0c3a9-0617-4a85-8e8f-eb955664f2ed",
   "metadata": {
    "tags": []
   },
   "source": [
    "### Reading in Our Dataset\n",
    "\n",
    "Our data is contained in four separate .csv files reflecting years 2001-2004, 2005-2007, 2008-2011, and 2012-2016. We will be combining these files into one dataframe, `chicago`. "
   ]
  },
  {
   "cell_type": "code",
   "execution_count": 6,
   "id": "93ba0f2b-f977-44c5-af21-18c1c347a979",
   "metadata": {},
   "outputs": [],
   "source": [
    "import pandas as pd\n",
    "import matplotlib.pyplot as plt\n",
    "import seaborn as sns \n",
    "import glob \n",
    "\n",
    "# grab all .csv file names in our directory\n",
    "files = glob.glob('Chicago*.csv')\n",
    "\n",
    "# read in all 5 of the files and concatenate them together\n",
    "chicago_data = [pd.read_csv(f, sep=',',on_bad_lines='skip',dtype=object) for f in files]\n",
    "chicago = pd.concat(chicago_data)"
   ]
  },
  {
   "cell_type": "code",
   "execution_count": 7,
   "id": "6aaea526-24c4-465a-be57-bfaa018b8be9",
   "metadata": {},
   "outputs": [
    {
     "data": {
      "text/plain": [
       "(7941282, 23)"
      ]
     },
     "execution_count": 7,
     "metadata": {},
     "output_type": "execute_result"
    }
   ],
   "source": [
    "chicago.shape"
   ]
  },
  {
   "cell_type": "markdown",
   "id": "9e39b481-9aa7-4b5c-a707-8cf383dd94fb",
   "metadata": {},
   "source": [
    "We have nearly 8 million lines of data! We will be reducing columns to our core eight columns mentioned earlier."
   ]
  },
  {
   "cell_type": "code",
   "execution_count": 8,
   "id": "cee94a51-cfcb-4261-9456-3aaf1a1bf1f1",
   "metadata": {},
   "outputs": [
    {
     "data": {
      "text/html": [
       "<div>\n",
       "<style scoped>\n",
       "    .dataframe tbody tr th:only-of-type {\n",
       "        vertical-align: middle;\n",
       "    }\n",
       "\n",
       "    .dataframe tbody tr th {\n",
       "        vertical-align: top;\n",
       "    }\n",
       "\n",
       "    .dataframe thead th {\n",
       "        text-align: right;\n",
       "    }\n",
       "</style>\n",
       "<table border=\"1\" class=\"dataframe\">\n",
       "  <thead>\n",
       "    <tr style=\"text-align: right;\">\n",
       "      <th></th>\n",
       "      <th>Unnamed: 0</th>\n",
       "      <th>ID</th>\n",
       "      <th>Case Number</th>\n",
       "      <th>Date</th>\n",
       "      <th>Block</th>\n",
       "      <th>IUCR</th>\n",
       "      <th>Primary Type</th>\n",
       "      <th>Description</th>\n",
       "      <th>Location Description</th>\n",
       "      <th>Arrest</th>\n",
       "      <th>...</th>\n",
       "      <th>Ward</th>\n",
       "      <th>Community Area</th>\n",
       "      <th>FBI Code</th>\n",
       "      <th>X Coordinate</th>\n",
       "      <th>Y Coordinate</th>\n",
       "      <th>Year</th>\n",
       "      <th>Updated On</th>\n",
       "      <th>Latitude</th>\n",
       "      <th>Longitude</th>\n",
       "      <th>Location</th>\n",
       "    </tr>\n",
       "  </thead>\n",
       "  <tbody>\n",
       "    <tr>\n",
       "      <th>0</th>\n",
       "      <td>388</td>\n",
       "      <td>4785</td>\n",
       "      <td>HP610824</td>\n",
       "      <td>10/07/2008 12:39:00 PM</td>\n",
       "      <td>000XX E 75TH ST</td>\n",
       "      <td>0110</td>\n",
       "      <td>HOMICIDE</td>\n",
       "      <td>FIRST DEGREE MURDER</td>\n",
       "      <td>ALLEY</td>\n",
       "      <td>True</td>\n",
       "      <td>...</td>\n",
       "      <td>6.0</td>\n",
       "      <td>69.0</td>\n",
       "      <td>01A</td>\n",
       "      <td>1178207.0</td>\n",
       "      <td>1855308.0</td>\n",
       "      <td>2008</td>\n",
       "      <td>08/17/2015 03:03:40 PM</td>\n",
       "      <td>41.758275857</td>\n",
       "      <td>-87.622451031</td>\n",
       "      <td>(41.758275857, -87.622451031)</td>\n",
       "    </tr>\n",
       "    <tr>\n",
       "      <th>1</th>\n",
       "      <td>835</td>\n",
       "      <td>4786</td>\n",
       "      <td>HP616595</td>\n",
       "      <td>10/09/2008 03:30:00 AM</td>\n",
       "      <td>048XX W POLK ST</td>\n",
       "      <td>0110</td>\n",
       "      <td>HOMICIDE</td>\n",
       "      <td>FIRST DEGREE MURDER</td>\n",
       "      <td>STREET</td>\n",
       "      <td>True</td>\n",
       "      <td>...</td>\n",
       "      <td>24.0</td>\n",
       "      <td>25.0</td>\n",
       "      <td>01A</td>\n",
       "      <td>1144200.0</td>\n",
       "      <td>1895857.0</td>\n",
       "      <td>2008</td>\n",
       "      <td>08/17/2015 03:03:40 PM</td>\n",
       "      <td>41.87025207</td>\n",
       "      <td>-87.746069362</td>\n",
       "      <td>(41.87025207, -87.746069362)</td>\n",
       "    </tr>\n",
       "    <tr>\n",
       "      <th>2</th>\n",
       "      <td>1334</td>\n",
       "      <td>4787</td>\n",
       "      <td>HP616904</td>\n",
       "      <td>10/09/2008 08:35:00 AM</td>\n",
       "      <td>030XX W MANN DR</td>\n",
       "      <td>0110</td>\n",
       "      <td>HOMICIDE</td>\n",
       "      <td>FIRST DEGREE MURDER</td>\n",
       "      <td>PARK PROPERTY</td>\n",
       "      <td>False</td>\n",
       "      <td>...</td>\n",
       "      <td>18.0</td>\n",
       "      <td>66.0</td>\n",
       "      <td>01A</td>\n",
       "      <td>1157314.0</td>\n",
       "      <td>1859778.0</td>\n",
       "      <td>2008</td>\n",
       "      <td>08/17/2015 03:03:40 PM</td>\n",
       "      <td>41.770990476</td>\n",
       "      <td>-87.698901469</td>\n",
       "      <td>(41.770990476, -87.698901469)</td>\n",
       "    </tr>\n",
       "  </tbody>\n",
       "</table>\n",
       "<p>3 rows × 23 columns</p>\n",
       "</div>"
      ],
      "text/plain": [
       "  Unnamed: 0    ID Case Number                    Date            Block  IUCR  \\\n",
       "0        388  4785    HP610824  10/07/2008 12:39:00 PM  000XX E 75TH ST  0110   \n",
       "1        835  4786    HP616595  10/09/2008 03:30:00 AM  048XX W POLK ST  0110   \n",
       "2       1334  4787    HP616904  10/09/2008 08:35:00 AM  030XX W MANN DR  0110   \n",
       "\n",
       "  Primary Type          Description Location Description Arrest  ...  Ward  \\\n",
       "0     HOMICIDE  FIRST DEGREE MURDER                ALLEY   True  ...   6.0   \n",
       "1     HOMICIDE  FIRST DEGREE MURDER               STREET   True  ...  24.0   \n",
       "2     HOMICIDE  FIRST DEGREE MURDER        PARK PROPERTY  False  ...  18.0   \n",
       "\n",
       "  Community Area FBI Code X Coordinate Y Coordinate  Year  \\\n",
       "0           69.0      01A    1178207.0    1855308.0  2008   \n",
       "1           25.0      01A    1144200.0    1895857.0  2008   \n",
       "2           66.0      01A    1157314.0    1859778.0  2008   \n",
       "\n",
       "               Updated On      Latitude      Longitude  \\\n",
       "0  08/17/2015 03:03:40 PM  41.758275857  -87.622451031   \n",
       "1  08/17/2015 03:03:40 PM   41.87025207  -87.746069362   \n",
       "2  08/17/2015 03:03:40 PM  41.770990476  -87.698901469   \n",
       "\n",
       "                        Location  \n",
       "0  (41.758275857, -87.622451031)  \n",
       "1   (41.87025207, -87.746069362)  \n",
       "2  (41.770990476, -87.698901469)  \n",
       "\n",
       "[3 rows x 23 columns]"
      ]
     },
     "execution_count": 8,
     "metadata": {},
     "output_type": "execute_result"
    }
   ],
   "source": [
    "chicago.head(3)"
   ]
  },
  {
   "cell_type": "markdown",
   "id": "3110cba4-a4fe-495e-9de9-40a02f049946",
   "metadata": {
    "tags": []
   },
   "source": [
    "### Initial Impressions\n",
    "\n"
   ]
  },
  {
   "cell_type": "code",
   "execution_count": 4,
   "id": "1927b208-9bd8-42bf-a8e8-1016660099de",
   "metadata": {},
   "outputs": [
    {
     "data": {
      "text/html": [
       "<div>\n",
       "<style scoped>\n",
       "    .dataframe tbody tr th:only-of-type {\n",
       "        vertical-align: middle;\n",
       "    }\n",
       "\n",
       "    .dataframe tbody tr th {\n",
       "        vertical-align: top;\n",
       "    }\n",
       "\n",
       "    .dataframe thead th {\n",
       "        text-align: right;\n",
       "    }\n",
       "</style>\n",
       "<table border=\"1\" class=\"dataframe\">\n",
       "  <thead>\n",
       "    <tr style=\"text-align: right;\">\n",
       "      <th></th>\n",
       "      <th>Unnamed: 0</th>\n",
       "      <th>ID</th>\n",
       "      <th>Case Number</th>\n",
       "      <th>Date</th>\n",
       "      <th>Block</th>\n",
       "      <th>IUCR</th>\n",
       "      <th>Primary Type</th>\n",
       "      <th>Description</th>\n",
       "      <th>Location Description</th>\n",
       "      <th>Arrest</th>\n",
       "      <th>...</th>\n",
       "      <th>Year</th>\n",
       "      <th>Updated On</th>\n",
       "      <th>Latitude</th>\n",
       "      <th>Longitude</th>\n",
       "      <th>Location</th>\n",
       "      <th>STATION</th>\n",
       "      <th>NAME</th>\n",
       "      <th>DATE</th>\n",
       "      <th>TAVG</th>\n",
       "      <th>TSUN</th>\n",
       "    </tr>\n",
       "  </thead>\n",
       "  <tbody>\n",
       "    <tr>\n",
       "      <th>count</th>\n",
       "      <td>7941282</td>\n",
       "      <td>7941282</td>\n",
       "      <td>7941275</td>\n",
       "      <td>7941282</td>\n",
       "      <td>7941282</td>\n",
       "      <td>7941282</td>\n",
       "      <td>7941282</td>\n",
       "      <td>7941282</td>\n",
       "      <td>7939292</td>\n",
       "      <td>7941282</td>\n",
       "      <td>...</td>\n",
       "      <td>7941282</td>\n",
       "      <td>7941282</td>\n",
       "      <td>7835709</td>\n",
       "      <td>7835708</td>\n",
       "      <td>7835708</td>\n",
       "      <td>4507</td>\n",
       "      <td>4507</td>\n",
       "      <td>4507</td>\n",
       "      <td>1707</td>\n",
       "      <td>258</td>\n",
       "    </tr>\n",
       "    <tr>\n",
       "      <th>unique</th>\n",
       "      <td>6170812</td>\n",
       "      <td>6170812</td>\n",
       "      <td>6170472</td>\n",
       "      <td>2451622</td>\n",
       "      <td>58776</td>\n",
       "      <td>398</td>\n",
       "      <td>35</td>\n",
       "      <td>376</td>\n",
       "      <td>172</td>\n",
       "      <td>2</td>\n",
       "      <td>...</td>\n",
       "      <td>18</td>\n",
       "      <td>1310</td>\n",
       "      <td>838978</td>\n",
       "      <td>838432</td>\n",
       "      <td>840085</td>\n",
       "      <td>1</td>\n",
       "      <td>1</td>\n",
       "      <td>4507</td>\n",
       "      <td>93</td>\n",
       "      <td>1</td>\n",
       "    </tr>\n",
       "    <tr>\n",
       "      <th>top</th>\n",
       "      <td>443944</td>\n",
       "      <td>5430528</td>\n",
       "      <td>G592219</td>\n",
       "      <td>01/01/2008 12:01:00 AM</td>\n",
       "      <td>100XX W OHARE ST</td>\n",
       "      <td>0820</td>\n",
       "      <td>THEFT</td>\n",
       "      <td>SIMPLE</td>\n",
       "      <td>STREET</td>\n",
       "      <td>False</td>\n",
       "      <td>...</td>\n",
       "      <td>2008</td>\n",
       "      <td>02/04/2016 06:33:39 AM</td>\n",
       "      <td>41.976290414</td>\n",
       "      <td>-87.905227221</td>\n",
       "      <td>(41.976290414, -87.905227221)</td>\n",
       "      <td>USW00094846</td>\n",
       "      <td>CHICAGO OHARE INTERNATIONAL AIRPORT, IL US</td>\n",
       "      <td>2004-01-01</td>\n",
       "      <td>72</td>\n",
       "      <td>0</td>\n",
       "    </tr>\n",
       "    <tr>\n",
       "      <th>freq</th>\n",
       "      <td>2</td>\n",
       "      <td>2</td>\n",
       "      <td>6</td>\n",
       "      <td>565</td>\n",
       "      <td>19927</td>\n",
       "      <td>611180</td>\n",
       "      <td>1640506</td>\n",
       "      <td>924724</td>\n",
       "      <td>2101842</td>\n",
       "      <td>5691862</td>\n",
       "      <td>...</td>\n",
       "      <td>852053</td>\n",
       "      <td>3574157</td>\n",
       "      <td>17378</td>\n",
       "      <td>17378</td>\n",
       "      <td>17378</td>\n",
       "      <td>4507</td>\n",
       "      <td>4507</td>\n",
       "      <td>1</td>\n",
       "      <td>46</td>\n",
       "      <td>258</td>\n",
       "    </tr>\n",
       "  </tbody>\n",
       "</table>\n",
       "<p>4 rows × 28 columns</p>\n",
       "</div>"
      ],
      "text/plain": [
       "       Unnamed: 0       ID Case Number                    Date  \\\n",
       "count     7941282  7941282     7941275                 7941282   \n",
       "unique    6170812  6170812     6170472                 2451622   \n",
       "top        443944  5430528     G592219  01/01/2008 12:01:00 AM   \n",
       "freq            2        2           6                     565   \n",
       "\n",
       "                   Block     IUCR Primary Type Description  \\\n",
       "count            7941282  7941282      7941282     7941282   \n",
       "unique             58776      398           35         376   \n",
       "top     100XX W OHARE ST     0820        THEFT      SIMPLE   \n",
       "freq               19927   611180      1640506      924724   \n",
       "\n",
       "       Location Description   Arrest  ...     Year              Updated On  \\\n",
       "count               7939292  7941282  ...  7941282                 7941282   \n",
       "unique                  172        2  ...       18                    1310   \n",
       "top                  STREET    False  ...     2008  02/04/2016 06:33:39 AM   \n",
       "freq                2101842  5691862  ...   852053                 3574157   \n",
       "\n",
       "            Latitude      Longitude                       Location  \\\n",
       "count        7835709        7835708                        7835708   \n",
       "unique        838978         838432                         840085   \n",
       "top     41.976290414  -87.905227221  (41.976290414, -87.905227221)   \n",
       "freq           17378          17378                          17378   \n",
       "\n",
       "            STATION                                        NAME        DATE  \\\n",
       "count          4507                                        4507        4507   \n",
       "unique            1                                           1        4507   \n",
       "top     USW00094846  CHICAGO OHARE INTERNATIONAL AIRPORT, IL US  2004-01-01   \n",
       "freq           4507                                        4507           1   \n",
       "\n",
       "        TAVG   TSUN  \n",
       "count   1707    258  \n",
       "unique    93      1  \n",
       "top       72      0  \n",
       "freq      46    258  \n",
       "\n",
       "[4 rows x 28 columns]"
      ]
     },
     "execution_count": 4,
     "metadata": {},
     "output_type": "execute_result"
    }
   ],
   "source": [
    "chicago.describe()"
   ]
  },
  {
   "cell_type": "markdown",
   "id": "46865522-78e3-435e-943a-2fe1af7eb192",
   "metadata": {},
   "source": [
    "Let's start with understanding our column formats."
   ]
  },
  {
   "cell_type": "code",
   "execution_count": 9,
   "id": "c64652ea-9f96-4c52-9c5c-aabee818a5f6",
   "metadata": {},
   "outputs": [
    {
     "name": "stdout",
     "output_type": "stream",
     "text": [
      "<class 'pandas.core.frame.DataFrame'>\n",
      "Int64Index: 7941282 entries, 0 to 1456713\n",
      "Data columns (total 23 columns):\n",
      " #   Column                Dtype \n",
      "---  ------                ----- \n",
      " 0   Unnamed: 0            object\n",
      " 1   ID                    object\n",
      " 2   Case Number           object\n",
      " 3   Date                  object\n",
      " 4   Block                 object\n",
      " 5   IUCR                  object\n",
      " 6   Primary Type          object\n",
      " 7   Description           object\n",
      " 8   Location Description  object\n",
      " 9   Arrest                object\n",
      " 10  Domestic              object\n",
      " 11  Beat                  object\n",
      " 12  District              object\n",
      " 13  Ward                  object\n",
      " 14  Community Area        object\n",
      " 15  FBI Code              object\n",
      " 16  X Coordinate          object\n",
      " 17  Y Coordinate          object\n",
      " 18  Year                  object\n",
      " 19  Updated On            object\n",
      " 20  Latitude              object\n",
      " 21  Longitude             object\n",
      " 22  Location              object\n",
      "dtypes: object(23)\n",
      "memory usage: 1.4+ GB\n"
     ]
    }
   ],
   "source": [
    "chicago.info()"
   ]
  },
  {
   "cell_type": "markdown",
   "id": "b9afd0f5-c8b2-49f2-a862-c3df67e71d2d",
   "metadata": {},
   "source": [
    "We can see that all of our columns are in str format. Columns like `date` will need to be converted to `datetime` format, `Arrest` converted to `bool`. We will need to clean the `block` column by extracting the street name as well. We will rename our columns for clarity, and ensure capitalization in consistent. "
   ]
  },
  {
   "cell_type": "markdown",
   "id": "87efb420-1723-407f-9085-b677ed40230a",
   "metadata": {},
   "source": [
    "Let's take an initial look at some of our columns that will be core to our analysis."
   ]
  },
  {
   "cell_type": "code",
   "execution_count": 10,
   "id": "5bd565f4-60bb-4198-9943-85502c8967da",
   "metadata": {},
   "outputs": [
    {
     "data": {
      "text/plain": [
       "THEFT                                1640506\n",
       "BATTERY                              1442716\n",
       "CRIMINAL DAMAGE                       923000\n",
       "NARCOTICS                             885431\n",
       "OTHER OFFENSE                         491922\n",
       "ASSAULT                               481661\n",
       "BURGLARY                              470958\n",
       "MOTOR VEHICLE THEFT                   370548\n",
       "ROBBERY                               300453\n",
       "DECEPTIVE PRACTICE                    280931\n",
       "CRIMINAL TRESPASS                     229366\n",
       "PROSTITUTION                           86401\n",
       "WEAPONS VIOLATION                      77429\n",
       "PUBLIC PEACE VIOLATION                 58548\n",
       "OFFENSE INVOLVING CHILDREN             51441\n",
       "CRIM SEXUAL ASSAULT                    29868\n",
       "SEX OFFENSE                            28707\n",
       "GAMBLING                               18806\n",
       "LIQUOR LAW VIOLATION                   17513\n",
       "INTERFERENCE WITH PUBLIC OFFICER       15710\n",
       "ARSON                                  13097\n",
       "HOMICIDE                                9051\n",
       "KIDNAPPING                              7756\n",
       "INTIMIDATION                            4636\n",
       "STALKING                                3734\n",
       "OBSCENITY                                496\n",
       "PUBLIC INDECENCY                         163\n",
       "OTHER NARCOTIC VIOLATION                 144\n",
       "NON-CRIMINAL                              97\n",
       "CONCEALED CARRY LICENSE VIOLATION         90\n",
       "NON - CRIMINAL                            38\n",
       "RITUALISM                                 31\n",
       "HUMAN TRAFFICKING                         28\n",
       "NON-CRIMINAL (SUBJECT SPECIFIED)           4\n",
       "DOMESTIC VIOLENCE                          2\n",
       "Name: Primary Type, dtype: int64"
      ]
     },
     "execution_count": 10,
     "metadata": {},
     "output_type": "execute_result"
    }
   ],
   "source": [
    "chicago['Primary Type'].value_counts(dropna=False)"
   ]
  },
  {
   "cell_type": "code",
   "execution_count": 11,
   "id": "db37ec6f-7b8c-4896-b034-c62b41aa3eea",
   "metadata": {},
   "outputs": [
    {
     "data": {
      "text/plain": [
       "False    0.716743\n",
       "True     0.283257\n",
       "Name: Arrest, dtype: float64"
      ]
     },
     "execution_count": 11,
     "metadata": {},
     "output_type": "execute_result"
    }
   ],
   "source": [
    "chicago['Arrest'].value_counts(normalize=True)"
   ]
  },
  {
   "cell_type": "markdown",
   "id": "752993ea-3ee1-4dd8-9cd4-d1d3160b23d1",
   "metadata": {},
   "source": [
    "Interesting to note that **between 2001 and 2016 only 28% of crimes reported resulted in an arrest!**"
   ]
  },
  {
   "cell_type": "code",
   "execution_count": 13,
   "id": "eb82848c-29f2-4fe6-b5f1-14a76e57021c",
   "metadata": {},
   "outputs": [
    {
     "data": {
      "text/plain": [
       "Unnamed: 0              0.000000e+00\n",
       "ID                      0.000000e+00\n",
       "Case Number             8.814698e-07\n",
       "Date                    0.000000e+00\n",
       "Block                   0.000000e+00\n",
       "IUCR                    0.000000e+00\n",
       "Primary Type            0.000000e+00\n",
       "Description             0.000000e+00\n",
       "Location Description    2.505893e-04\n",
       "Arrest                  0.000000e+00\n",
       "Domestic                0.000000e+00\n",
       "Beat                    0.000000e+00\n",
       "District                1.145911e-05\n",
       "Ward                    8.817518e-02\n",
       "Community Area          8.841028e-02\n",
       "FBI Code                0.000000e+00\n",
       "X Coordinate            1.329420e-02\n",
       "Y Coordinate            1.329420e-02\n",
       "Year                    0.000000e+00\n",
       "Updated On              0.000000e+00\n",
       "Latitude                1.329420e-02\n",
       "Longitude               1.329433e-02\n",
       "Location                1.329433e-02\n",
       "dtype: float64"
      ]
     },
     "execution_count": 13,
     "metadata": {},
     "output_type": "execute_result"
    }
   ],
   "source": [
    "chicago.isnull().sum() / chicago.shape[0]"
   ]
  },
  {
   "cell_type": "code",
   "execution_count": 14,
   "id": "019ed892-f2c7-4222-8960-7cd50b88fcbc",
   "metadata": {},
   "outputs": [
    {
     "name": "stdout",
     "output_type": "stream",
     "text": [
      "<class 'pandas.core.frame.DataFrame'>\n",
      "Int64Index: 7941282 entries, 0 to 1456713\n",
      "Data columns (total 23 columns):\n",
      " #   Column                Dtype \n",
      "---  ------                ----- \n",
      " 0   Unnamed: 0            object\n",
      " 1   ID                    object\n",
      " 2   Case Number           object\n",
      " 3   Date                  object\n",
      " 4   Block                 object\n",
      " 5   IUCR                  object\n",
      " 6   Primary Type          object\n",
      " 7   Description           object\n",
      " 8   Location Description  object\n",
      " 9   Arrest                object\n",
      " 10  Domestic              object\n",
      " 11  Beat                  object\n",
      " 12  District              object\n",
      " 13  Ward                  object\n",
      " 14  Community Area        object\n",
      " 15  FBI Code              object\n",
      " 16  X Coordinate          object\n",
      " 17  Y Coordinate          object\n",
      " 18  Year                  object\n",
      " 19  Updated On            object\n",
      " 20  Latitude              object\n",
      " 21  Longitude             object\n",
      " 22  Location              object\n",
      "dtypes: object(23)\n",
      "memory usage: 1.4+ GB\n"
     ]
    }
   ],
   "source": [
    "chicago.info()"
   ]
  },
  {
   "cell_type": "markdown",
   "id": "e0c90f67-2291-4767-b1d0-7a0834f32f1b",
   "metadata": {},
   "source": [
    "Our `Location description` column is missing 1,990 values. With the exception of columns `Longitude` and `Latitude`, colums 10-22 won't be used. "
   ]
  },
  {
   "cell_type": "markdown",
   "id": "7e6ffcbf-b9a1-45d1-a511-1c349743e54a",
   "metadata": {},
   "source": [
    "### Initial Cleaning: Reducing our Dataset To Core 8 Columns"
   ]
  },
  {
   "cell_type": "markdown",
   "id": "0cd15979-a778-4119-a844-e9e42fe7bd31",
   "metadata": {},
   "source": [
    "We will start with reducing our dataset to only our core 8 columns:`Case Number`, `Date`, `Block`,`Primary Type`, `Description`,`Location Description`,`X Coordinate`, `Y Coordinate`."
   ]
  },
  {
   "cell_type": "code",
   "execution_count": 28,
   "id": "3191f18e-249a-446d-be50-0623ad011333",
   "metadata": {},
   "outputs": [],
   "source": [
    "core_columns = [\n",
    "    'Date',\n",
    "    'Block',\n",
    "    'Primary Type',\n",
    "    'Description',\n",
    "    'Location Description',\n",
    "    'X Coordinate',\n",
    "    'Y Coordinate',\n",
    "]\n",
    "\n",
    "# update our dataframe with our core eight columns\n",
    "chicago_updated = chicago[core_columns].copy()"
   ]
  },
  {
   "cell_type": "code",
   "execution_count": 29,
   "id": "509f60c6-6bf8-4e5f-9d36-8a36effe2004",
   "metadata": {},
   "outputs": [
    {
     "data": {
      "text/html": [
       "<div>\n",
       "<style scoped>\n",
       "    .dataframe tbody tr th:only-of-type {\n",
       "        vertical-align: middle;\n",
       "    }\n",
       "\n",
       "    .dataframe tbody tr th {\n",
       "        vertical-align: top;\n",
       "    }\n",
       "\n",
       "    .dataframe thead th {\n",
       "        text-align: right;\n",
       "    }\n",
       "</style>\n",
       "<table border=\"1\" class=\"dataframe\">\n",
       "  <thead>\n",
       "    <tr style=\"text-align: right;\">\n",
       "      <th></th>\n",
       "      <th>Date</th>\n",
       "      <th>Block</th>\n",
       "      <th>Primary Type</th>\n",
       "      <th>Description</th>\n",
       "      <th>Location Description</th>\n",
       "      <th>X Coordinate</th>\n",
       "      <th>Y Coordinate</th>\n",
       "    </tr>\n",
       "  </thead>\n",
       "  <tbody>\n",
       "    <tr>\n",
       "      <th>0</th>\n",
       "      <td>10/07/2008 12:39:00 PM</td>\n",
       "      <td>000XX E 75TH ST</td>\n",
       "      <td>HOMICIDE</td>\n",
       "      <td>FIRST DEGREE MURDER</td>\n",
       "      <td>ALLEY</td>\n",
       "      <td>1178207.0</td>\n",
       "      <td>1855308.0</td>\n",
       "    </tr>\n",
       "    <tr>\n",
       "      <th>1</th>\n",
       "      <td>10/09/2008 03:30:00 AM</td>\n",
       "      <td>048XX W POLK ST</td>\n",
       "      <td>HOMICIDE</td>\n",
       "      <td>FIRST DEGREE MURDER</td>\n",
       "      <td>STREET</td>\n",
       "      <td>1144200.0</td>\n",
       "      <td>1895857.0</td>\n",
       "    </tr>\n",
       "    <tr>\n",
       "      <th>2</th>\n",
       "      <td>10/09/2008 08:35:00 AM</td>\n",
       "      <td>030XX W MANN DR</td>\n",
       "      <td>HOMICIDE</td>\n",
       "      <td>FIRST DEGREE MURDER</td>\n",
       "      <td>PARK PROPERTY</td>\n",
       "      <td>1157314.0</td>\n",
       "      <td>1859778.0</td>\n",
       "    </tr>\n",
       "    <tr>\n",
       "      <th>3</th>\n",
       "      <td>10/10/2008 02:33:00 AM</td>\n",
       "      <td>052XX W CHICAGO AVE</td>\n",
       "      <td>HOMICIDE</td>\n",
       "      <td>FIRST DEGREE MURDER</td>\n",
       "      <td>RESTAURANT</td>\n",
       "      <td>1141065.0</td>\n",
       "      <td>1904824.0</td>\n",
       "    </tr>\n",
       "    <tr>\n",
       "      <th>4</th>\n",
       "      <td>10/10/2008 12:50:00 PM</td>\n",
       "      <td>026XX S HOMAN AVE</td>\n",
       "      <td>HOMICIDE</td>\n",
       "      <td>FIRST DEGREE MURDER</td>\n",
       "      <td>GARAGE</td>\n",
       "      <td>1154123.0</td>\n",
       "      <td>1886297.0</td>\n",
       "    </tr>\n",
       "  </tbody>\n",
       "</table>\n",
       "</div>"
      ],
      "text/plain": [
       "                     Date                Block Primary Type  \\\n",
       "0  10/07/2008 12:39:00 PM      000XX E 75TH ST     HOMICIDE   \n",
       "1  10/09/2008 03:30:00 AM      048XX W POLK ST     HOMICIDE   \n",
       "2  10/09/2008 08:35:00 AM      030XX W MANN DR     HOMICIDE   \n",
       "3  10/10/2008 02:33:00 AM  052XX W CHICAGO AVE     HOMICIDE   \n",
       "4  10/10/2008 12:50:00 PM    026XX S HOMAN AVE     HOMICIDE   \n",
       "\n",
       "           Description Location Description X Coordinate Y Coordinate  \n",
       "0  FIRST DEGREE MURDER                ALLEY    1178207.0    1855308.0  \n",
       "1  FIRST DEGREE MURDER               STREET    1144200.0    1895857.0  \n",
       "2  FIRST DEGREE MURDER        PARK PROPERTY    1157314.0    1859778.0  \n",
       "3  FIRST DEGREE MURDER           RESTAURANT    1141065.0    1904824.0  \n",
       "4  FIRST DEGREE MURDER               GARAGE    1154123.0    1886297.0  "
      ]
     },
     "execution_count": 29,
     "metadata": {},
     "output_type": "execute_result"
    }
   ],
   "source": [
    "chicago_updated.head()"
   ]
  },
  {
   "cell_type": "markdown",
   "id": "4f43240a-7f08-4a52-ae93-3cfd642216d6",
   "metadata": {},
   "source": [
    "We can now change some of our columns names for clarity and readability.\n",
    "- `Primary Type` to `Offense`,\n",
    "- `Location Description` to `Incident Location` "
   ]
  },
  {
   "cell_type": "code",
   "execution_count": 30,
   "id": "6b21f7f2-7d77-4c4c-acb6-ffaa7ad65dd8",
   "metadata": {},
   "outputs": [],
   "source": [
    "new_cols = {'Primary Type': 'Offense',\n",
    "            'Description': 'Offense Description',\n",
    "            'Location Description': 'Offense Location',\n",
    "           }\n"
   ]
  },
  {
   "cell_type": "code",
   "execution_count": 31,
   "id": "4555c68c-5fb9-4d38-aa3c-39ac9e2ee94f",
   "metadata": {},
   "outputs": [],
   "source": [
    "chicago_updated.rename(columns=new_cols,inplace=True)"
   ]
  },
  {
   "cell_type": "code",
   "execution_count": 32,
   "id": "83891417-7d16-466e-a781-6be0c93fb03c",
   "metadata": {},
   "outputs": [
    {
     "name": "stdout",
     "output_type": "stream",
     "text": [
      "<class 'pandas.core.frame.DataFrame'>\n",
      "Int64Index: 7941282 entries, 0 to 1456713\n",
      "Data columns (total 7 columns):\n",
      " #   Column               Dtype \n",
      "---  ------               ----- \n",
      " 0   Date                 object\n",
      " 1   Block                object\n",
      " 2   Offense              object\n",
      " 3   Offense Description  object\n",
      " 4   Offense Location     object\n",
      " 5   X Coordinate         object\n",
      " 6   Y Coordinate         object\n",
      "dtypes: object(7)\n",
      "memory usage: 484.7+ MB\n"
     ]
    }
   ],
   "source": [
    "chicago_updated.info()"
   ]
  },
  {
   "cell_type": "code",
   "execution_count": 33,
   "id": "ea7183e0-ae7c-433b-803b-671323fdde0b",
   "metadata": {},
   "outputs": [
    {
     "data": {
      "text/html": [
       "<div>\n",
       "<style scoped>\n",
       "    .dataframe tbody tr th:only-of-type {\n",
       "        vertical-align: middle;\n",
       "    }\n",
       "\n",
       "    .dataframe tbody tr th {\n",
       "        vertical-align: top;\n",
       "    }\n",
       "\n",
       "    .dataframe thead th {\n",
       "        text-align: right;\n",
       "    }\n",
       "</style>\n",
       "<table border=\"1\" class=\"dataframe\">\n",
       "  <thead>\n",
       "    <tr style=\"text-align: right;\">\n",
       "      <th></th>\n",
       "      <th>Date</th>\n",
       "      <th>Block</th>\n",
       "      <th>Offense</th>\n",
       "      <th>Offense Description</th>\n",
       "      <th>Offense Location</th>\n",
       "      <th>X Coordinate</th>\n",
       "      <th>Y Coordinate</th>\n",
       "    </tr>\n",
       "  </thead>\n",
       "  <tbody>\n",
       "    <tr>\n",
       "      <th>0</th>\n",
       "      <td>10/07/2008 12:39:00 PM</td>\n",
       "      <td>000XX E 75TH ST</td>\n",
       "      <td>HOMICIDE</td>\n",
       "      <td>FIRST DEGREE MURDER</td>\n",
       "      <td>ALLEY</td>\n",
       "      <td>1178207.0</td>\n",
       "      <td>1855308.0</td>\n",
       "    </tr>\n",
       "    <tr>\n",
       "      <th>1</th>\n",
       "      <td>10/09/2008 03:30:00 AM</td>\n",
       "      <td>048XX W POLK ST</td>\n",
       "      <td>HOMICIDE</td>\n",
       "      <td>FIRST DEGREE MURDER</td>\n",
       "      <td>STREET</td>\n",
       "      <td>1144200.0</td>\n",
       "      <td>1895857.0</td>\n",
       "    </tr>\n",
       "    <tr>\n",
       "      <th>2</th>\n",
       "      <td>10/09/2008 08:35:00 AM</td>\n",
       "      <td>030XX W MANN DR</td>\n",
       "      <td>HOMICIDE</td>\n",
       "      <td>FIRST DEGREE MURDER</td>\n",
       "      <td>PARK PROPERTY</td>\n",
       "      <td>1157314.0</td>\n",
       "      <td>1859778.0</td>\n",
       "    </tr>\n",
       "    <tr>\n",
       "      <th>3</th>\n",
       "      <td>10/10/2008 02:33:00 AM</td>\n",
       "      <td>052XX W CHICAGO AVE</td>\n",
       "      <td>HOMICIDE</td>\n",
       "      <td>FIRST DEGREE MURDER</td>\n",
       "      <td>RESTAURANT</td>\n",
       "      <td>1141065.0</td>\n",
       "      <td>1904824.0</td>\n",
       "    </tr>\n",
       "    <tr>\n",
       "      <th>4</th>\n",
       "      <td>10/10/2008 12:50:00 PM</td>\n",
       "      <td>026XX S HOMAN AVE</td>\n",
       "      <td>HOMICIDE</td>\n",
       "      <td>FIRST DEGREE MURDER</td>\n",
       "      <td>GARAGE</td>\n",
       "      <td>1154123.0</td>\n",
       "      <td>1886297.0</td>\n",
       "    </tr>\n",
       "  </tbody>\n",
       "</table>\n",
       "</div>"
      ],
      "text/plain": [
       "                     Date                Block   Offense  Offense Description  \\\n",
       "0  10/07/2008 12:39:00 PM      000XX E 75TH ST  HOMICIDE  FIRST DEGREE MURDER   \n",
       "1  10/09/2008 03:30:00 AM      048XX W POLK ST  HOMICIDE  FIRST DEGREE MURDER   \n",
       "2  10/09/2008 08:35:00 AM      030XX W MANN DR  HOMICIDE  FIRST DEGREE MURDER   \n",
       "3  10/10/2008 02:33:00 AM  052XX W CHICAGO AVE  HOMICIDE  FIRST DEGREE MURDER   \n",
       "4  10/10/2008 12:50:00 PM    026XX S HOMAN AVE  HOMICIDE  FIRST DEGREE MURDER   \n",
       "\n",
       "  Offense Location X Coordinate Y Coordinate  \n",
       "0            ALLEY    1178207.0    1855308.0  \n",
       "1           STREET    1144200.0    1895857.0  \n",
       "2    PARK PROPERTY    1157314.0    1859778.0  \n",
       "3       RESTAURANT    1141065.0    1904824.0  \n",
       "4           GARAGE    1154123.0    1886297.0  "
      ]
     },
     "execution_count": 33,
     "metadata": {},
     "output_type": "execute_result"
    }
   ],
   "source": [
    "chicago_updated.head()"
   ]
  },
  {
   "cell_type": "markdown",
   "id": "f2019adc-2488-4188-969f-08c0f984955f",
   "metadata": {},
   "source": [
    "We will need to change our `date` column to datetime object for easier manipulation, later on. "
   ]
  },
  {
   "cell_type": "code",
   "execution_count": 34,
   "id": "737557ad-ac78-46bb-b10e-9f92347f84c6",
   "metadata": {},
   "outputs": [],
   "source": [
    "# convert to datetime object\n",
    "chicago_updated['Date'] = pd.to_datetime(chicago_updated['Date'])                                 "
   ]
  },
  {
   "cell_type": "markdown",
   "id": "c61493b9-e640-4d25-acb8-666bc5bca3a4",
   "metadata": {},
   "source": [
    "We can now reorder our columns to improve our flow of information."
   ]
  },
  {
   "cell_type": "code",
   "execution_count": null,
   "id": "7dd2156c-e50e-4603-86ff-8403f9859828",
   "metadata": {},
   "outputs": [],
   "source": [
    "col_reorder = [\n",
    "    'Date',\n",
    "    'Time of Day',\n",
    "    'Block',\n",
    "    'Offense',\n",
    "    'Offense Description',\n",
    "    'Incident Location',\n",
    "    'District',\n",
    "    'Map Location',\n",
    "    'Case ID'\n",
    "]\n"
   ]
  },
  {
   "cell_type": "code",
   "execution_count": null,
   "id": "79348cde-7296-4fab-8a69-ff6cd9050866",
   "metadata": {},
   "outputs": [],
   "source": [
    "chicago_updated = chicago_updated.reindex(columns=col_reorder)"
   ]
  },
  {
   "cell_type": "code",
   "execution_count": null,
   "id": "987897ae-aa75-4531-96c0-fadd69a97ed6",
   "metadata": {},
   "outputs": [],
   "source": [
    "chicago_updated = chicago_updated.drop(columns='Time of Day')"
   ]
  },
  {
   "cell_type": "code",
   "execution_count": null,
   "id": "dbe97f3d-5af8-4f9f-8ae7-e61d6ade51e7",
   "metadata": {},
   "outputs": [],
   "source": [
    "chicago_updated.head()"
   ]
  },
  {
   "cell_type": "markdown",
   "id": "79cadd1d-aaa5-4253-b161-3a6e4fc40b65",
   "metadata": {},
   "source": [
    "It would be helpful to extract only the numerical portion of our `Block` column, and assign it to a new column, `Block Number`. We can then take the remaining address and assign it to another new column, `Street`."
   ]
  },
  {
   "cell_type": "code",
   "execution_count": null,
   "id": "2a67d50a-556c-42b0-825a-14aa99f0520d",
   "metadata": {},
   "outputs": [],
   "source": [
    "# search pattern representing the numerical portion of our `Block` column\n",
    "pattern = r\"(\\d+X+)\"\n"
   ]
  },
  {
   "cell_type": "code",
   "execution_count": null,
   "id": "6c351a7b-08a0-4405-87c8-c48b042e0d12",
   "metadata": {},
   "outputs": [],
   "source": [
    "# extract all block numbers from address\n",
    "block_numbers = chicago_updated['Block'].str.extract(pattern)"
   ]
  },
  {
   "cell_type": "code",
   "execution_count": null,
   "id": "a600b86c-aca9-42c7-8f49-035cce07925b",
   "metadata": {},
   "outputs": [],
   "source": [
    "chicago_updated['Block Number'] = block_numbers"
   ]
  },
  {
   "cell_type": "markdown",
   "id": "bac54d8d-9178-4e6f-bc1d-3d54f269fdc6",
   "metadata": {},
   "source": [
    "Now, we can create a simple function to clean and extract the street portion of the `Address` column"
   ]
  },
  {
   "cell_type": "code",
   "execution_count": null,
   "id": "20455469-8d51-4535-8895-5c9591179d87",
   "metadata": {},
   "outputs": [],
   "source": [
    "# extracts and returns the street name\n",
    "def clean_address(address):\n",
    "    address = str(address)\n",
    "    street_name = address.split()[1:]\n",
    "    street_name = ','.join(street_name)\n",
    "    street_name = street_name.replace(',',' ')\n",
    "                                    \n",
    "    return street_name\n"
   ]
  },
  {
   "cell_type": "code",
   "execution_count": null,
   "id": "fd1f289b-1ffb-49c1-8218-301cc1523666",
   "metadata": {},
   "outputs": [],
   "source": [
    "chicago_updated.head()"
   ]
  },
  {
   "cell_type": "code",
   "execution_count": null,
   "id": "ea9a6cda-cf74-4050-82ef-0b76b41585ce",
   "metadata": {},
   "outputs": [],
   "source": [
    "# extract the street name for every row in our data set\n",
    "chicago_updated['Street'] = chicago_updated['Block'].apply(clean_address)"
   ]
  },
  {
   "cell_type": "code",
   "execution_count": null,
   "id": "76d73183-948f-4fc2-98fd-bc2bab760acf",
   "metadata": {},
   "outputs": [],
   "source": [
    "chicago_updated.head()"
   ]
  },
  {
   "cell_type": "markdown",
   "id": "8f3b464e-a1a4-4d04-b4b0-5f26bbe5f6ad",
   "metadata": {},
   "source": [
    "Let's drop the old address column, and re-order our `Street` column for better flow."
   ]
  },
  {
   "cell_type": "code",
   "execution_count": null,
   "id": "4562d71d-a13d-46eb-a6e4-8344fcd0f115",
   "metadata": {},
   "outputs": [],
   "source": [
    "chicago_updated = chicago_updated.drop(columns='Block')"
   ]
  },
  {
   "cell_type": "code",
   "execution_count": null,
   "id": "53b2e169-762e-42c6-b6f1-373d2796b838",
   "metadata": {},
   "outputs": [],
   "source": [
    "col_reorder_2 = [\n",
    "    'Date',\n",
    "    'Time of Day',\n",
    "    'Street',\n",
    "    'Offense',\n",
    "    'Offense Description',\n",
    "    'Incident Location',\n",
    "    'District',\n",
    "    'Map Location',\n",
    "    'Case ID',\n",
    "    'Block Number'\n",
    "]\n"
   ]
  },
  {
   "cell_type": "code",
   "execution_count": null,
   "id": "8da4eb55-6878-4f9c-ac67-57907df9c167",
   "metadata": {},
   "outputs": [],
   "source": [
    "chicago_updated = chicago_updated.reindex(columns=col_reorder_2)"
   ]
  },
  {
   "cell_type": "code",
   "execution_count": null,
   "id": "407b6520-7f3c-4362-a8bd-66f3645e0692",
   "metadata": {},
   "outputs": [],
   "source": [
    "chicago_updated.head()"
   ]
  },
  {
   "cell_type": "markdown",
   "id": "050c8e3d-cae9-4d15-81e1-63055e4cebbc",
   "metadata": {},
   "source": [
    "Let's also drop our `Time of Day` column since it's included in our `Date` column. `Case ID` can also be dropped."
   ]
  },
  {
   "cell_type": "code",
   "execution_count": null,
   "id": "d28914e3-89ed-4aa6-99f9-b4977eafeeb4",
   "metadata": {},
   "outputs": [],
   "source": [
    "chicago_updated = chicago_updated.drop(columns=['Date','Case ID'])"
   ]
  },
  {
   "cell_type": "code",
   "execution_count": null,
   "id": "84839521-c63b-423c-918d-4a982f9c7435",
   "metadata": {},
   "outputs": [],
   "source": [
    "chicago_updated.head()"
   ]
  },
  {
   "cell_type": "markdown",
   "id": "57d01c84-9361-4de3-9e59-64d4b794b301",
   "metadata": {},
   "source": [
    "### Dealing with Remaining Missing Values"
   ]
  },
  {
   "cell_type": "markdown",
   "id": "9cebc518-885f-4aef-9ce7-2f622cdc5120",
   "metadata": {},
   "source": [
    "Let's look at the proportion of missing values in our dataframe. "
   ]
  },
  {
   "cell_type": "code",
   "execution_count": null,
   "id": "eb223f56-bf24-4f19-a343-870b987ad172",
   "metadata": {},
   "outputs": [],
   "source": [
    "chicago_updated.isnull().sum()"
   ]
  },
  {
   "cell_type": "markdown",
   "id": "90c16d7a-f24a-43b8-ab5b-db81a1e12d27",
   "metadata": {},
   "source": [
    "We can see that there are very few missing values relative to the size of our dataset-nearly 8 million rows.`Offense`,` Street` and `Date` have no missing values which is good news.\n",
    "\n",
    "The remaining columns with missing vlaues `Incident Location`, `District` and `Block Number` can be left as-is for now. `Map Location` contains the most missing values, and we will deal with that later on when we analyze our maps. "
   ]
  },
  {
   "cell_type": "code",
   "execution_count": null,
   "id": "93037b7d-9781-48ab-aea0-7c55dde82f9d",
   "metadata": {},
   "outputs": [],
   "source": [
    "chicago_updated['Incident Location'].value_counts().head(5)"
   ]
  },
  {
   "cell_type": "code",
   "execution_count": null,
   "id": "b4eedfda-cb65-4dec-828d-e84c2673ccc1",
   "metadata": {},
   "outputs": [],
   "source": [
    "chicago_updated.head(3)"
   ]
  },
  {
   "cell_type": "code",
   "execution_count": null,
   "id": "c873b976-8891-415b-ab55-35a25f51a95f",
   "metadata": {},
   "outputs": [],
   "source": [
    "# let's add our arrest column back in!\n",
    "chicago.drop_duplicates(inplace=True)"
   ]
  },
  {
   "cell_type": "markdown",
   "id": "900d7938-4cca-408f-8020-6c0e7b266c7a",
   "metadata": {},
   "source": [
    "### Dealing with Duplicate Values\n",
    "\n",
    "Let's now check for duplicate rows.\n"
   ]
  },
  {
   "cell_type": "code",
   "execution_count": null,
   "id": "737030c3-341e-42bc-823d-a0009673d568",
   "metadata": {},
   "outputs": [],
   "source": [
    "chicago_updated.duplicated().sum()"
   ]
  },
  {
   "cell_type": "markdown",
   "id": "4092a921-b2e3-4219-a958-1342896eea13",
   "metadata": {},
   "source": [
    "We can drop our duplicate rows. "
   ]
  },
  {
   "cell_type": "code",
   "execution_count": null,
   "id": "a5ce0b92-80d9-43d6-ac54-44a680b7fda5",
   "metadata": {},
   "outputs": [],
   "source": [
    "chicago_updated.drop_duplicates(inplace=True)"
   ]
  },
  {
   "cell_type": "code",
   "execution_count": null,
   "id": "ac43e357-9f30-47a8-979b-3695fae9d783",
   "metadata": {},
   "outputs": [],
   "source": [
    "chicago_updated.duplicated().sum()"
   ]
  },
  {
   "cell_type": "markdown",
   "id": "d9da82c4-c593-4e7a-b04b-7dcd85ca535d",
   "metadata": {},
   "source": [
    "Let's look at our missing values for our entire Dataframe. "
   ]
  },
  {
   "cell_type": "code",
   "execution_count": null,
   "id": "aa2e74c9-1890-4a9a-8f19-3ff9077b123e",
   "metadata": {},
   "outputs": [],
   "source": [
    "chicago_updated.isnull().sum() / chicago_updated.shape[0] * 100"
   ]
  },
  {
   "cell_type": "markdown",
   "id": "e8cdf642-bd57-4917-9726-595b2a2af52c",
   "metadata": {},
   "source": [
    "Our `Map Location` column has the most null values with 1.36%. Let's leave it for now. "
   ]
  },
  {
   "cell_type": "markdown",
   "id": "6476e136-b27b-462f-9460-8cf38dedf21c",
   "metadata": {},
   "source": [
    "### Focusing on Violent Crimes Moving Forward"
   ]
  },
  {
   "cell_type": "markdown",
   "id": "b98fac6f-b40a-4c9c-ba3d-2d1b42018e70",
   "metadata": {},
   "source": [
    "The focus of our analysis is indicators of *violent* crimes. For the purpose of our project, we will narrow our analysis to: `BATTERY`,`ASSAULT`,`ROBBERY`,`CRIM SEXUAL ASSAULT`,`HOMICIDE`. Due to the nature of our data, we will be unable to distinguish between felony and non-felony offenses in the assault and battery category."
   ]
  },
  {
   "cell_type": "code",
   "execution_count": null,
   "id": "dfd1d084-c7de-4e85-94c8-96a12a8d4c62",
   "metadata": {},
   "outputs": [],
   "source": [
    "chicago_updated.head()"
   ]
  },
  {
   "cell_type": "code",
   "execution_count": null,
   "id": "c0c7a3a9-f044-4083-8b2c-902455542d1d",
   "metadata": {},
   "outputs": [],
   "source": [
    "# violent offenses \n",
    "violent_crimes = ['BATTERY','CRIM SEXUAL ASSAULT','ASSAULT','ROBBERY','HOMICIDE']\n",
    "\n",
    "# new empty dataframe for violent offenses\n",
    "chicago_violent = pd.DataFrame()\n",
    "\n",
    "# create dataframe with only violent offenses\n",
    "for crime in violent_crimes:\n",
    "    chicago_violent = pd.concat([chicago_violent, chicago_updated[chicago_updated['Offense'] == crime]])"
   ]
  },
  {
   "cell_type": "code",
   "execution_count": null,
   "id": "1c4485dc-513f-468a-83ad-189ec9db8fcb",
   "metadata": {},
   "outputs": [],
   "source": [
    "chicago_violent.head()"
   ]
  },
  {
   "cell_type": "code",
   "execution_count": null,
   "id": "6eb882f2-8edd-40f3-b93b-4cf80dac1151",
   "metadata": {},
   "outputs": [],
   "source": [
    "import re"
   ]
  },
  {
   "cell_type": "code",
   "execution_count": null,
   "id": "45b90532-f55c-4741-9ad4-c931d09a8c41",
   "metadata": {},
   "outputs": [],
   "source": [
    "# small dataset to test operations\n",
    "chicago_small = chicago_violent.iloc[0:2000:].copy()"
   ]
  },
  {
   "cell_type": "markdown",
   "id": "d37c2844-97a2-4a25-81a0-9e15f17f5785",
   "metadata": {},
   "source": [
    "### What Times are Violent Crimes Most Likely to Occur? "
   ]
  },
  {
   "cell_type": "markdown",
   "id": "1463bbb4-b747-4297-827c-b6ea95f283a3",
   "metadata": {},
   "source": [
    "When considering when violent crimes are most likely to take place, most of us would bet on the late evening hours. However, the data does not support this. According to our data, overall, violent crimes were **most likely to take place at lunchtime around 12pm, followed by 10pm-11pm. "
   ]
  },
  {
   "cell_type": "markdown",
   "id": "004a9b28-549a-462a-94ae-69364b6c6837",
   "metadata": {},
   "source": [
    "##### When Violent Crimes Are Most Likely to Occur"
   ]
  },
  {
   "cell_type": "code",
   "execution_count": null,
   "id": "f84f0e03-fb4c-4601-8091-1056a381f887",
   "metadata": {},
   "outputs": [],
   "source": [
    "chicago_violent['Date'].dt.strftime(\"%Ip\").sort_values().value_counts().plot(kind='bar')\n",
    "plt.title('Violent Crimes by Time')\n",
    "plt.ylabel('Number of Occurences')\n",
    "plt.xlabel('Time of Occurrence')\n",
    "plt.show()"
   ]
  },
  {
   "cell_type": "code",
   "execution_count": null,
   "id": "522c341e-99bf-49d3-ae7e-884f06f7ae40",
   "metadata": {},
   "outputs": [],
   "source": [
    "# change Date to datetime object\"\n",
    "chicago_violent['Date'] = pd.to_datetime(chicago_violent['Date'])"
   ]
  },
  {
   "cell_type": "markdown",
   "id": "50f19932-ee33-4009-bcb3-a258073c30a9",
   "metadata": {},
   "source": [
    "### Violent Crimes in Broad Daylight are Most Common"
   ]
  },
  {
   "cell_type": "markdown",
   "id": "3e30b094-eda7-422f-a2e5-c9c622568762",
   "metadata": {},
   "source": [
    "We can now look at individual crimes and when they were most likely to occur. "
   ]
  },
  {
   "cell_type": "code",
   "execution_count": null,
   "id": "f4c1207d-9982-4590-8f13-e0416f52e4d6",
   "metadata": {},
   "outputs": [],
   "source": [
    "chicago_violent.head()"
   ]
  },
  {
   "cell_type": "code",
   "execution_count": null,
   "id": "01a354e0-6067-436d-9d95-e6d26372f0fd",
   "metadata": {},
   "outputs": [],
   "source": [
    "for crime in chicago_violent['Offense'].unique():\n",
    "    offense_by_hour_count = chicago_violent[chicago_violent['Offense'] == crime]['Date'].dt.strftime(\"%Ip\").value_counts()\n",
    "    plt.title(crime)\n",
    "    plt.plot(offense_by_hour_count)\n",
    "    plt.show()"
   ]
  },
  {
   "cell_type": "markdown",
   "id": "dd497540-6f0c-4760-a245-ce6d853f87d9",
   "metadata": {},
   "source": [
    "Surprising? We can see from above that much of the violent crime is committed in broad daylight! Looking at `HOMICIDES` we can see that the peak time is 12pm. With the exception of `ASSAULT`, the remaining offenses peak at similar times. "
   ]
  },
  {
   "cell_type": "markdown",
   "id": "92a8733f-b435-495b-b293-0b0341eb3205",
   "metadata": {},
   "source": [
    "### Violent Crime and Weather "
   ]
  },
  {
   "cell_type": "markdown",
   "id": "6b370607-7a40-4399-b06e-d69895903784",
   "metadata": {},
   "source": [
    "Is there a correlation with violent crime and temperature? To find out, we will import our weather dataset and merge in with our `chicago_violent` dataset."
   ]
  },
  {
   "cell_type": "code",
   "execution_count": null,
   "id": "9b99b8d6-1965-48f0-a76d-96d1f12c8bf9",
   "metadata": {},
   "outputs": [],
   "source": [
    "chicago_updated.head()"
   ]
  },
  {
   "cell_type": "markdown",
   "id": "4f9a5298-7536-45bb-be29-485263487503",
   "metadata": {},
   "source": [
    "### Importing Our Weather Data"
   ]
  },
  {
   "cell_type": "markdown",
   "id": "a8286b6a-dac3-4454-ac99-9fd115993ee9",
   "metadata": {},
   "source": [
    "For our weather we'll import our dataset from O'Hare Airport. You can find this data set here: [noaa.gov](https://www.ncdc.noaa.gov/cdo-web/search). We are interested in `TAVG`: Average temperature for that day. We will need to convert our `DATE` column in our weather dataset to a datetime object in order to work with it later. "
   ]
  },
  {
   "cell_type": "code",
   "execution_count": null,
   "id": "152da145-7cf1-49a0-8775-616569e45a48",
   "metadata": {},
   "outputs": [],
   "source": [
    "ohare_file = pd.read_csv('ohare_weather.csv')\n",
    "ohare_weather = pd.DataFrame(ohare_file)"
   ]
  },
  {
   "cell_type": "code",
   "execution_count": null,
   "id": "af8fa01b-fa58-4963-982d-2acbd2360256",
   "metadata": {},
   "outputs": [],
   "source": [
    "ohare_weather.head()"
   ]
  },
  {
   "cell_type": "code",
   "execution_count": null,
   "id": "1848531e-9822-4b3f-bb1a-68105b46a449",
   "metadata": {},
   "outputs": [],
   "source": []
  },
  {
   "cell_type": "code",
   "execution_count": null,
   "id": "f7816dab-4c44-4718-b0dc-d5388537145d",
   "metadata": {},
   "outputs": [],
   "source": []
  },
  {
   "cell_type": "code",
   "execution_count": null,
   "id": "2e4913e6-12db-4e27-8b16-e8eb1837bf8f",
   "metadata": {},
   "outputs": [],
   "source": []
  }
 ],
 "metadata": {
  "kernelspec": {
   "display_name": "Python 3 (ipykernel)",
   "language": "python",
   "name": "python3"
  },
  "language_info": {
   "codemirror_mode": {
    "name": "ipython",
    "version": 3
   },
   "file_extension": ".py",
   "mimetype": "text/x-python",
   "name": "python",
   "nbconvert_exporter": "python",
   "pygments_lexer": "ipython3",
   "version": "3.9.7"
  }
 },
 "nbformat": 4,
 "nbformat_minor": 5
}
